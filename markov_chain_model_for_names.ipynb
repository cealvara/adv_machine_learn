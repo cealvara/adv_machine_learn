{
 "cells": [
  {
   "cell_type": "code",
   "execution_count": 57,
   "metadata": {
    "collapsed": false
   },
   "outputs": [],
   "source": [
    "from collections import defaultdict \n",
    "\n",
    "class Markov_Model(object):\n",
    "    '''Markov model order 1, for names'''\n",
    "    def __init__(self):\n",
    "        self.count_character = defaultdict(int)\n",
    "        self.count_bigram = defaultdict(int)\n",
    "        self.num_names = 0\n",
    "        \n",
    "    def add_name(self,name):\n",
    "        assert type(name) == str, 'type(name) is not string'\n",
    "        self.num_names = self.num_names + 1\n",
    "        self.count_character['begin'] = self.num_names\n",
    "        \n",
    "        for i, char in enumerate(name):\n",
    "            self.count_character[char] = self.count_character.get(char,0) + 1\n",
    "\n",
    "            if i == 0:\n",
    "                key = \"begin\" + char\n",
    "            elif i == len(name) - 1:\n",
    "                key = char + \"end\"  \n",
    "            else:\n",
    "                key = name[i-1] + char \n",
    "        \n",
    "            self.count_bigram[key] = self.count_bigram.get(key,0) + 1\n",
    "\n",
    "    def prob_name(self, name, smooth=None):\n",
    "        assert len(name) > 0, 'name is too short'\n",
    "        \n",
    "        list_characters = ['begin']\n",
    "        list_characters.extend(list(name))\n",
    "        list_characters.append('end')\n",
    "        \n",
    "        print(list_characters)\n",
    "        \n",
    "        if smooth == None:\n",
    "            num = 0\n",
    "            deno = 0\n",
    "        elif smooth == 'Laplace':\n",
    "            num = 1\n",
    "            deno = len(self.count_character.keys())\n",
    "        else:\n",
    "            print('Smoothing method not known')\n",
    "            return 0\n",
    "        \n",
    "        prob = 1\n",
    "        \n",
    "        for index, n in enumerate(list_characters):\n",
    "            print(prob)\n",
    "            if list_characters[index] not in self.count_character:\n",
    "                return 0\n",
    "            \n",
    "            prob = prob * (self.count_bigram[n+list_characters[index+1]]+num)/(self.count_character[n]+deno)\n",
    "            print(n)\n",
    "\n",
    "        print(prob)\n",
    "        return prob"
   ]
  },
  {
   "cell_type": "code",
   "execution_count": 58,
   "metadata": {
    "collapsed": false
   },
   "outputs": [
    {
     "name": "stdout",
     "output_type": "stream",
     "text": [
      "['begin', 'C', 'a', 'r', 'o', 'l', 'a', 'end']\n",
      "1\n",
      "begin\n",
      "0.8\n",
      "C\n",
      "0.6000000000000001\n",
      "a\n",
      "0.15000000000000002\n",
      "r\n",
      "0.07500000000000001\n",
      "o\n",
      "0.037500000000000006\n",
      "l\n",
      "0.009375000000000001\n",
      "a\n",
      "0.0035156250000000005\n",
      "['begin', 'C', 'a', 'r', 'o', 'l', 'a', 'end']\n",
      "1\n",
      "begin\n",
      "0.2777777777777778\n",
      "C\n",
      "0.06535947712418301\n",
      "a\n",
      "0.009337068160597574\n",
      "r\n",
      "0.00124494242141301\n",
      "o\n",
      "0.000165992322855068\n",
      "l\n",
      "1.952850857118447e-05\n",
      "a\n",
      "3.7197159183208515e-06\n",
      "0 0\n"
     ]
    }
   ],
   "source": [
    "model = Markov_Model()\n",
    "\n",
    "names = ['Carlos', 'Carolina', 'Camila', 'Claudia', 'Juan']\n",
    "#names = ['Peter Peter pen']\n",
    "\n",
    "for name in names:\n",
    "    model.add_name(name)\n",
    "\n",
    "prob1 = model.prob_name('Carola')\n",
    "prob2 = model.prob_name('Carola', smooth='Laplace')\n",
    "\n",
    "print(prob1, prob2)"
   ]
  }
 ],
 "metadata": {
  "anaconda-cloud": {},
  "kernelspec": {
   "display_name": "Python [conda root]",
   "language": "python",
   "name": "conda-root-py"
  },
  "language_info": {
   "codemirror_mode": {
    "name": "ipython",
    "version": 3
   },
   "file_extension": ".py",
   "mimetype": "text/x-python",
   "name": "python",
   "nbconvert_exporter": "python",
   "pygments_lexer": "ipython3",
   "version": "3.5.2"
  }
 },
 "nbformat": 4,
 "nbformat_minor": 1
}
