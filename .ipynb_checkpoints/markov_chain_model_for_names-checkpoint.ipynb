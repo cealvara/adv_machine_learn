{
 "cells": [
  {
   "cell_type": "code",
   "execution_count": 20,
   "metadata": {
    "collapsed": false
   },
   "outputs": [],
   "source": [
    "from collections import defaultdict \n",
    "\n",
    "class Markov_Model(object):\n",
    "    '''Markov model order 1, for names'''\n",
    "    def __init__(self):\n",
    "        self.count_character = defaultdict(int)\n",
    "        self.count_bigram = defaultdict(int)\n",
    "        self.num_names = 0\n",
    "        \n",
    "    def add_name(self,name):\n",
    "        assert type(name) == str, 'type(name) is not string'\n",
    "        self.num_names = self.num_names + 1\n",
    "        \n",
    "        for i, char in enumerate(name):\n",
    "            self.count_character[char] = self.count_character.get(char,0) + 1\n",
    "\n",
    "            if i == 0:\n",
    "                key = \"begin\" + char\n",
    "            elif i == len(name) - 1:\n",
    "                key = char + \"end\"  \n",
    "            else:\n",
    "                key = name[i-1] + char \n",
    "        \n",
    "            self.count_bigram[key] = self.count_bigram.get(key,0) + 1\n",
    "\n",
    "    def prob_name(self, name, smooth=None):\n",
    "        assert len(name) > 0, 'name is too short'\n",
    "        if smooth == None:\n",
    "            num = 0\n",
    "            deno = 0\n",
    "        elif smooth == 'Laplace':\n",
    "            num = 1\n",
    "            deno = len(self.count_character.keys())\n",
    "            \n",
    "        prob = (self.count_bigram['begin'+name[0]]+num)/(self.num_names+deno)\n",
    "\n",
    "        for index, n in enumerate(name[1:len(name)-1]):\n",
    "            prob = prob * (self.count_bigram[name[index]+n]+num)/(self.count_character[name[index]]+deno)\n",
    "\n",
    "        return prob"
   ]
  },
  {
   "cell_type": "code",
   "execution_count": 24,
   "metadata": {
    "collapsed": false
   },
   "outputs": [
    {
     "name": "stdout",
     "output_type": "stream",
     "text": [
      "here\n"
     ]
    },
    {
     "data": {
      "text/plain": [
       "0.0"
      ]
     },
     "execution_count": 24,
     "metadata": {},
     "output_type": "execute_result"
    }
   ],
   "source": [
    "model = Markov_Model()\n",
    "\n",
    "#names = ['Carlos', 'Carolina', 'Camila', 'Claudia', 'Juan']\n",
    "names = ['Peter Peter pan']\n",
    "\n",
    "for name in names:\n",
    "    model.add_name(name)\n",
    "\n",
    "model.prob_name('Pan') "
   ]
  }
 ],
 "metadata": {
  "anaconda-cloud": {},
  "kernelspec": {
   "display_name": "Python [conda root]",
   "language": "python",
   "name": "conda-root-py"
  },
  "language_info": {
   "codemirror_mode": {
    "name": "ipython",
    "version": 3
   },
   "file_extension": ".py",
   "mimetype": "text/x-python",
   "name": "python",
   "nbconvert_exporter": "python",
   "pygments_lexer": "ipython3",
   "version": "3.5.2"
  }
 },
 "nbformat": 4,
 "nbformat_minor": 1
}
